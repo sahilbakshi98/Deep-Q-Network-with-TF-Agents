{
  "cells": [
    {
      "cell_type": "markdown",
      "metadata": {
        "id": "view-in-github",
        "colab_type": "text"
      },
      "source": [
        "<a href=\"https://colab.research.google.com/github/sahilbakshi98/Deep-Q-Network-with-TF-Agents/blob/main/sahil_DQN_Tutorial.ipynb\" target=\"_parent\"><img src=\"https://colab.research.google.com/assets/colab-badge.svg\" alt=\"Open In Colab\"/></a>"
      ]
    },
    {
      "cell_type": "markdown",
      "metadata": {
        "id": "klGNgWREsvQv"
      },
      "source": [
        "##### Copyright 2023 The TF-Agents Authors."
      ]
    },
    {
      "cell_type": "code",
      "execution_count": null,
      "metadata": {
        "cellView": "form",
        "id": "nQnmcm0oI1Q-"
      },
      "outputs": [],
      "source": [
        "#@title Licensed under the Apache License, Version 2.0 (the \"License\");\n",
        "# you may not use this file except in compliance with the License.\n",
        "# You may obtain a copy of the License at\n",
        "#\n",
        "# https://www.apache.org/licenses/LICENSE-2.0\n",
        "#\n",
        "# Unless required by applicable law or agreed to in writing, software\n",
        "# distributed under the License is distributed on an \"AS IS\" BASIS,\n",
        "# WITHOUT WARRANTIES OR CONDITIONS OF ANY KIND, either express or implied.\n",
        "# See the License for the specific language governing permissions and\n",
        "# limitations under the License."
      ]
    },
    {
      "cell_type": "markdown",
      "metadata": {
        "id": "pmDI-h7cI0tI"
      },
      "source": [
        "# Train a Deep Q Network with TF-Agents\n",
        "\n",
        "<table class=\"tfo-notebook-buttons\" align=\"left\">\n",
        "  <td>\n",
        "    <a target=\"_blank\" href=\"https://www.tensorflow.org/agents/tutorials/1_dqn_tutorial\">\n",
        "    <img src=\"https://www.tensorflow.org/images/tf_logo_32px.png\" />\n",
        "    View on TensorFlow.org</a>\n",
        "  </td>\n",
        "  <td>\n",
        "    <a target=\"_blank\" href=\"https://colab.research.google.com/github/tensorflow/agents/blob/master/docs/tutorials/1_dqn_tutorial.ipynb\">\n",
        "    <img src=\"https://www.tensorflow.org/images/colab_logo_32px.png\" />\n",
        "    Run in Google Colab</a>\n",
        "  </td>\n",
        "  <td>\n",
        "    <a target=\"_blank\" href=\"https://github.com/tensorflow/agents/blob/master/docs/tutorials/1_dqn_tutorial.ipynb\">\n",
        "    <img src=\"https://www.tensorflow.org/images/GitHub-Mark-32px.png\" />\n",
        "    View source on GitHub</a>\n",
        "  </td>\n",
        "  <td>\n",
        "    <a href=\"https://storage.googleapis.com/tensorflow_docs/agents/docs/tutorials/1_dqn_tutorial.ipynb\"><img src=\"https://www.tensorflow.org/images/download_logo_32px.png\" />Download notebook</a>\n",
        "  </td>\n",
        "</table>"
      ]
    },
    {
      "cell_type": "markdown",
      "metadata": {
        "id": "lsaQlK8fFQqH"
      },
      "source": [
        "## Introduction\n"
      ]
    },
    {
      "cell_type": "markdown",
      "metadata": {
        "id": "cKOCZlhUgXVK"
      },
      "source": [
        "This example shows how to train a [DQN (Deep Q Networks)](https://storage.googleapis.com/deepmind-media/dqn/DQNNaturePaper.pdf)  agent on the Cartpole environment using the TF-Agents library.\n",
        "\n",
        "![Cartpole environment](https://raw.githubusercontent.com/tensorflow/agents/master/docs/tutorials/images/cartpole.png)\n",
        "\n",
        "It will walk you through all the components in a Reinforcement Learning (RL) pipeline for training, evaluation and data collection.\n",
        "\n",
        "\n",
        "To run this code live, click the 'Run in Google Colab' link above.\n"
      ]
    },
    {
      "cell_type": "markdown",
      "metadata": {
        "id": "1u9QVVsShC9X"
      },
      "source": [
        "## Setup"
      ]
    },
    {
      "cell_type": "markdown",
      "metadata": {
        "id": "kNrNXKI7bINP"
      },
      "source": [
        "If you haven't installed the following dependencies, run:"
      ]
    },
    {
      "cell_type": "code",
      "execution_count": 3,
      "metadata": {
        "id": "KEHR2Ui-lo8O",
        "colab": {
          "base_uri": "https://localhost:8080/"
        },
        "outputId": "53850662-5fae-4832-88ab-a9dc2c15c275"
      },
      "outputs": [
        {
          "output_type": "stream",
          "name": "stdout",
          "text": [
            "Hit:1 https://cloud.r-project.org/bin/linux/ubuntu focal-cran40/ InRelease\n",
            "Hit:2 https://developer.download.nvidia.com/compute/cuda/repos/ubuntu2004/x86_64  InRelease\n",
            "Hit:3 http://security.ubuntu.com/ubuntu focal-security InRelease\n",
            "Hit:4 http://ppa.launchpad.net/c2d4u.team/c2d4u4.0+/ubuntu focal InRelease\n",
            "Hit:5 http://archive.ubuntu.com/ubuntu focal InRelease\n",
            "Hit:6 http://archive.ubuntu.com/ubuntu focal-updates InRelease\n",
            "Hit:7 http://ppa.launchpad.net/cran/libgit2/ubuntu focal InRelease\n",
            "Hit:8 http://archive.ubuntu.com/ubuntu focal-backports InRelease\n",
            "Hit:9 http://ppa.launchpad.net/deadsnakes/ppa/ubuntu focal InRelease\n",
            "Hit:10 http://ppa.launchpad.net/graphics-drivers/ppa/ubuntu focal InRelease\n",
            "Hit:11 http://ppa.launchpad.net/ubuntugis/ppa/ubuntu focal InRelease\n",
            "Reading package lists... Done\n",
            "Reading package lists... Done\n",
            "Building dependency tree       \n",
            "Reading state information... Done\n",
            "freeglut3-dev is already the newest version (2.8.1-3).\n",
            "ffmpeg is already the newest version (7:4.2.7-0ubuntu0.1).\n",
            "xvfb is already the newest version (2:1.20.13-1ubuntu1~20.04.8).\n",
            "0 upgraded, 0 newly installed, 0 to remove and 27 not upgraded.\n",
            "Looking in indexes: https://pypi.org/simple, https://us-python.pkg.dev/colab-wheels/public/simple/\n",
            "Requirement already satisfied: imageio==2.4.0 in /usr/local/lib/python3.10/dist-packages (2.4.0)\n",
            "Requirement already satisfied: pillow in /usr/local/lib/python3.10/dist-packages (from imageio==2.4.0) (8.4.0)\n",
            "Requirement already satisfied: numpy in /usr/local/lib/python3.10/dist-packages (from imageio==2.4.0) (1.24.3)\n",
            "Looking in indexes: https://pypi.org/simple, https://us-python.pkg.dev/colab-wheels/public/simple/\n",
            "Requirement already satisfied: pyvirtualdisplay in /usr/local/lib/python3.10/dist-packages (3.0)\n",
            "Looking in indexes: https://pypi.org/simple, https://us-python.pkg.dev/colab-wheels/public/simple/\n",
            "Requirement already satisfied: tf-agents[reverb] in /usr/local/lib/python3.10/dist-packages (0.16.0)\n",
            "Requirement already satisfied: pygame==2.1.3 in /usr/local/lib/python3.10/dist-packages (from tf-agents[reverb]) (2.1.3)\n",
            "Requirement already satisfied: cloudpickle>=1.3 in /usr/local/lib/python3.10/dist-packages (from tf-agents[reverb]) (2.2.1)\n",
            "Requirement already satisfied: wrapt>=1.11.1 in /usr/local/lib/python3.10/dist-packages (from tf-agents[reverb]) (1.14.1)\n",
            "Requirement already satisfied: numpy>=1.19.0 in /usr/local/lib/python3.10/dist-packages (from tf-agents[reverb]) (1.24.3)\n",
            "Requirement already satisfied: gin-config>=0.4.0 in /usr/local/lib/python3.10/dist-packages (from tf-agents[reverb]) (0.5.0)\n",
            "Requirement already satisfied: typing-extensions>=3.7.4.3 in /usr/local/lib/python3.10/dist-packages (from tf-agents[reverb]) (4.5.0)\n",
            "Requirement already satisfied: pillow in /usr/local/lib/python3.10/dist-packages (from tf-agents[reverb]) (8.4.0)\n",
            "Requirement already satisfied: tensorflow-probability~=0.19.0 in /usr/local/lib/python3.10/dist-packages (from tf-agents[reverb]) (0.19.0)\n",
            "Requirement already satisfied: protobuf>=3.11.3 in /usr/local/lib/python3.10/dist-packages (from tf-agents[reverb]) (3.20.3)\n",
            "Requirement already satisfied: six>=1.10.0 in /usr/local/lib/python3.10/dist-packages (from tf-agents[reverb]) (1.16.0)\n",
            "Requirement already satisfied: gym<=0.23.0,>=0.17.0 in /usr/local/lib/python3.10/dist-packages (from tf-agents[reverb]) (0.23.0)\n",
            "Requirement already satisfied: absl-py>=0.6.1 in /usr/local/lib/python3.10/dist-packages (from tf-agents[reverb]) (1.4.0)\n",
            "Requirement already satisfied: rlds in /usr/local/lib/python3.10/dist-packages (from tf-agents[reverb]) (0.1.8)\n",
            "Requirement already satisfied: dm-reverb~=0.11.0 in /usr/local/lib/python3.10/dist-packages (from tf-agents[reverb]) (0.11.0)\n",
            "Requirement already satisfied: tensorflow~=2.12.0 in /usr/local/lib/python3.10/dist-packages (from tf-agents[reverb]) (2.12.0)\n",
            "Requirement already satisfied: dm-tree in /usr/local/lib/python3.10/dist-packages (from dm-reverb~=0.11.0->tf-agents[reverb]) (0.1.8)\n",
            "Requirement already satisfied: portpicker in /usr/local/lib/python3.10/dist-packages (from dm-reverb~=0.11.0->tf-agents[reverb]) (1.3.9)\n",
            "Requirement already satisfied: gym-notices>=0.0.4 in /usr/local/lib/python3.10/dist-packages (from gym<=0.23.0,>=0.17.0->tf-agents[reverb]) (0.0.8)\n",
            "Requirement already satisfied: google-pasta>=0.1.1 in /usr/local/lib/python3.10/dist-packages (from tensorflow~=2.12.0->tf-agents[reverb]) (0.2.0)\n",
            "Requirement already satisfied: tensorboard<2.13,>=2.12 in /usr/local/lib/python3.10/dist-packages (from tensorflow~=2.12.0->tf-agents[reverb]) (2.12.2)\n",
            "Collecting numpy>=1.19.0\n",
            "  Downloading numpy-1.23.5-cp310-cp310-manylinux_2_17_x86_64.manylinux2014_x86_64.whl (17.1 MB)\n",
            "\u001b[2K     \u001b[90m━━━━━━━━━━━━━━━━━━━━━━━━━━━━━━━━━━━━━━━━\u001b[0m \u001b[32m17.1/17.1 MB\u001b[0m \u001b[31m76.4 MB/s\u001b[0m eta \u001b[36m0:00:00\u001b[0m\n",
            "\u001b[?25hRequirement already satisfied: tensorflow-io-gcs-filesystem>=0.23.1 in /usr/local/lib/python3.10/dist-packages (from tensorflow~=2.12.0->tf-agents[reverb]) (0.32.0)\n",
            "Requirement already satisfied: astunparse>=1.6.0 in /usr/local/lib/python3.10/dist-packages (from tensorflow~=2.12.0->tf-agents[reverb]) (1.6.3)\n",
            "Requirement already satisfied: grpcio<2.0,>=1.24.3 in /usr/local/lib/python3.10/dist-packages (from tensorflow~=2.12.0->tf-agents[reverb]) (1.54.0)\n",
            "Requirement already satisfied: libclang>=13.0.0 in /usr/local/lib/python3.10/dist-packages (from tensorflow~=2.12.0->tf-agents[reverb]) (16.0.0)\n",
            "Requirement already satisfied: packaging in /usr/local/lib/python3.10/dist-packages (from tensorflow~=2.12.0->tf-agents[reverb]) (23.1)\n",
            "Requirement already satisfied: flatbuffers>=2.0 in /usr/local/lib/python3.10/dist-packages (from tensorflow~=2.12.0->tf-agents[reverb]) (23.3.3)\n",
            "Requirement already satisfied: tensorflow-estimator<2.13,>=2.12.0 in /usr/local/lib/python3.10/dist-packages (from tensorflow~=2.12.0->tf-agents[reverb]) (2.12.0)\n",
            "Requirement already satisfied: jax>=0.3.15 in /usr/local/lib/python3.10/dist-packages (from tensorflow~=2.12.0->tf-agents[reverb]) (0.4.8)\n",
            "Requirement already satisfied: termcolor>=1.1.0 in /usr/local/lib/python3.10/dist-packages (from tensorflow~=2.12.0->tf-agents[reverb]) (2.3.0)\n",
            "Requirement already satisfied: setuptools in /usr/local/lib/python3.10/dist-packages (from tensorflow~=2.12.0->tf-agents[reverb]) (67.7.2)\n",
            "Requirement already satisfied: opt-einsum>=2.3.2 in /usr/local/lib/python3.10/dist-packages (from tensorflow~=2.12.0->tf-agents[reverb]) (3.3.0)\n",
            "Requirement already satisfied: keras<2.13,>=2.12.0 in /usr/local/lib/python3.10/dist-packages (from tensorflow~=2.12.0->tf-agents[reverb]) (2.12.0)\n",
            "Requirement already satisfied: h5py>=2.9.0 in /usr/local/lib/python3.10/dist-packages (from tensorflow~=2.12.0->tf-agents[reverb]) (3.8.0)\n",
            "Requirement already satisfied: gast<=0.4.0,>=0.2.1 in /usr/local/lib/python3.10/dist-packages (from tensorflow~=2.12.0->tf-agents[reverb]) (0.4.0)\n",
            "Requirement already satisfied: decorator in /usr/local/lib/python3.10/dist-packages (from tensorflow-probability~=0.19.0->tf-agents[reverb]) (4.4.2)\n",
            "Requirement already satisfied: wheel<1.0,>=0.23.0 in /usr/local/lib/python3.10/dist-packages (from astunparse>=1.6.0->tensorflow~=2.12.0->tf-agents[reverb]) (0.40.0)\n",
            "Requirement already satisfied: ml-dtypes>=0.0.3 in /usr/local/lib/python3.10/dist-packages (from jax>=0.3.15->tensorflow~=2.12.0->tf-agents[reverb]) (0.1.0)\n",
            "Requirement already satisfied: scipy>=1.7 in /usr/local/lib/python3.10/dist-packages (from jax>=0.3.15->tensorflow~=2.12.0->tf-agents[reverb]) (1.10.1)\n",
            "Requirement already satisfied: tensorboard-data-server<0.8.0,>=0.7.0 in /usr/local/lib/python3.10/dist-packages (from tensorboard<2.13,>=2.12->tensorflow~=2.12.0->tf-agents[reverb]) (0.7.0)\n",
            "Requirement already satisfied: markdown>=2.6.8 in /usr/local/lib/python3.10/dist-packages (from tensorboard<2.13,>=2.12->tensorflow~=2.12.0->tf-agents[reverb]) (3.4.3)\n",
            "Requirement already satisfied: werkzeug>=1.0.1 in /usr/local/lib/python3.10/dist-packages (from tensorboard<2.13,>=2.12->tensorflow~=2.12.0->tf-agents[reverb]) (2.3.0)\n",
            "Requirement already satisfied: google-auth<3,>=1.6.3 in /usr/local/lib/python3.10/dist-packages (from tensorboard<2.13,>=2.12->tensorflow~=2.12.0->tf-agents[reverb]) (2.17.3)\n",
            "Requirement already satisfied: tensorboard-plugin-wit>=1.6.0 in /usr/local/lib/python3.10/dist-packages (from tensorboard<2.13,>=2.12->tensorflow~=2.12.0->tf-agents[reverb]) (1.8.1)\n",
            "Requirement already satisfied: requests<3,>=2.21.0 in /usr/local/lib/python3.10/dist-packages (from tensorboard<2.13,>=2.12->tensorflow~=2.12.0->tf-agents[reverb]) (2.27.1)\n",
            "Requirement already satisfied: google-auth-oauthlib<1.1,>=0.5 in /usr/local/lib/python3.10/dist-packages (from tensorboard<2.13,>=2.12->tensorflow~=2.12.0->tf-agents[reverb]) (1.0.0)\n",
            "Requirement already satisfied: rsa<5,>=3.1.4 in /usr/local/lib/python3.10/dist-packages (from google-auth<3,>=1.6.3->tensorboard<2.13,>=2.12->tensorflow~=2.12.0->tf-agents[reverb]) (4.9)\n",
            "Requirement already satisfied: pyasn1-modules>=0.2.1 in /usr/local/lib/python3.10/dist-packages (from google-auth<3,>=1.6.3->tensorboard<2.13,>=2.12->tensorflow~=2.12.0->tf-agents[reverb]) (0.3.0)\n",
            "Requirement already satisfied: cachetools<6.0,>=2.0.0 in /usr/local/lib/python3.10/dist-packages (from google-auth<3,>=1.6.3->tensorboard<2.13,>=2.12->tensorflow~=2.12.0->tf-agents[reverb]) (5.3.0)\n",
            "Requirement already satisfied: requests-oauthlib>=0.7.0 in /usr/local/lib/python3.10/dist-packages (from google-auth-oauthlib<1.1,>=0.5->tensorboard<2.13,>=2.12->tensorflow~=2.12.0->tf-agents[reverb]) (1.3.1)\n",
            "Requirement already satisfied: charset-normalizer~=2.0.0 in /usr/local/lib/python3.10/dist-packages (from requests<3,>=2.21.0->tensorboard<2.13,>=2.12->tensorflow~=2.12.0->tf-agents[reverb]) (2.0.12)\n",
            "Requirement already satisfied: certifi>=2017.4.17 in /usr/local/lib/python3.10/dist-packages (from requests<3,>=2.21.0->tensorboard<2.13,>=2.12->tensorflow~=2.12.0->tf-agents[reverb]) (2022.12.7)\n",
            "Requirement already satisfied: urllib3<1.27,>=1.21.1 in /usr/local/lib/python3.10/dist-packages (from requests<3,>=2.21.0->tensorboard<2.13,>=2.12->tensorflow~=2.12.0->tf-agents[reverb]) (1.26.15)\n",
            "Requirement already satisfied: idna<4,>=2.5 in /usr/local/lib/python3.10/dist-packages (from requests<3,>=2.21.0->tensorboard<2.13,>=2.12->tensorflow~=2.12.0->tf-agents[reverb]) (3.4)\n",
            "Requirement already satisfied: MarkupSafe>=2.1.1 in /usr/local/lib/python3.10/dist-packages (from werkzeug>=1.0.1->tensorboard<2.13,>=2.12->tensorflow~=2.12.0->tf-agents[reverb]) (2.1.2)\n",
            "Requirement already satisfied: pyasn1<0.6.0,>=0.4.6 in /usr/local/lib/python3.10/dist-packages (from pyasn1-modules>=0.2.1->google-auth<3,>=1.6.3->tensorboard<2.13,>=2.12->tensorflow~=2.12.0->tf-agents[reverb]) (0.5.0)\n",
            "Requirement already satisfied: oauthlib>=3.0.0 in /usr/local/lib/python3.10/dist-packages (from requests-oauthlib>=0.7.0->google-auth-oauthlib<1.1,>=0.5->tensorboard<2.13,>=2.12->tensorflow~=2.12.0->tf-agents[reverb]) (3.2.2)\n",
            "Installing collected packages: numpy\n",
            "  Attempting uninstall: numpy\n",
            "    Found existing installation: numpy 1.24.3\n",
            "    Uninstalling numpy-1.24.3:\n",
            "      Successfully uninstalled numpy-1.24.3\n",
            "\u001b[31mERROR: pip's dependency resolver does not currently take into account all the packages that are installed. This behaviour is the source of the following dependency conflicts.\n",
            "scikit-image 0.19.3 requires imageio>=2.4.1, but you have imageio 2.4.0 which is incompatible.\n",
            "moviepy 1.0.3 requires imageio<3.0,>=2.5; python_version >= \"3.4\", but you have imageio 2.4.0 which is incompatible.\u001b[0m\u001b[31m\n",
            "\u001b[0mSuccessfully installed numpy-1.23.5\n",
            "Looking in indexes: https://pypi.org/simple, https://us-python.pkg.dev/colab-wheels/public/simple/\n",
            "Requirement already satisfied: pyglet in /usr/local/lib/python3.10/dist-packages (2.0.6)\n",
            "Looking in indexes: https://pypi.org/simple, https://us-python.pkg.dev/colab-wheels/public/simple/\n",
            "Requirement already satisfied: numpy in /usr/local/lib/python3.10/dist-packages (1.23.5)\n",
            "Collecting numpy\n",
            "  Using cached numpy-1.24.3-cp310-cp310-manylinux_2_17_x86_64.manylinux2014_x86_64.whl (17.3 MB)\n",
            "Installing collected packages: numpy\n",
            "  Attempting uninstall: numpy\n",
            "    Found existing installation: numpy 1.23.5\n",
            "    Uninstalling numpy-1.23.5:\n",
            "      Successfully uninstalled numpy-1.23.5\n",
            "\u001b[31mERROR: pip's dependency resolver does not currently take into account all the packages that are installed. This behaviour is the source of the following dependency conflicts.\n",
            "tensorflow 2.12.0 requires numpy<1.24,>=1.22, but you have numpy 1.24.3 which is incompatible.\n",
            "scikit-image 0.19.3 requires imageio>=2.4.1, but you have imageio 2.4.0 which is incompatible.\n",
            "numba 0.56.4 requires numpy<1.24,>=1.18, but you have numpy 1.24.3 which is incompatible.\n",
            "moviepy 1.0.3 requires imageio<3.0,>=2.5; python_version >= \"3.4\", but you have imageio 2.4.0 which is incompatible.\u001b[0m\u001b[31m\n",
            "\u001b[0mSuccessfully installed numpy-1.24.3\n"
          ]
        }
      ],
      "source": [
        "!sudo apt-get update\n",
        "!sudo apt-get install -y xvfb ffmpeg freeglut3-dev\n",
        "!pip install 'imageio==2.4.0'\n",
        "!pip install pyvirtualdisplay\n",
        "!pip install tf-agents[reverb]\n",
        "!pip install pyglet\n",
        "!pip install numpy --upgrade"
      ]
    },
    {
      "cell_type": "code",
      "execution_count": 4,
      "metadata": {
        "id": "sMitx5qSgJk1"
      },
      "outputs": [],
      "source": [
        "from __future__ import absolute_import, division, print_function\n",
        "\n",
        "import base64\n",
        "import imageio\n",
        "import IPython\n",
        "import matplotlib\n",
        "import matplotlib.pyplot as plt\n",
        "import numpy as np\n",
        "import PIL.Image\n",
        "import pyvirtualdisplay\n",
        "import reverb\n",
        "\n",
        "import tensorflow as tf\n",
        "\n",
        "from tf_agents.agents.dqn import dqn_agent\n",
        "from tf_agents.drivers import py_driver\n",
        "from tf_agents.environments import suite_gym\n",
        "from tf_agents.environments import tf_py_environment\n",
        "from tf_agents.eval import metric_utils\n",
        "from tf_agents.metrics import tf_metrics\n",
        "from tf_agents.networks import sequential\n",
        "from tf_agents.policies import py_tf_eager_policy\n",
        "from tf_agents.policies import random_tf_policy\n",
        "from tf_agents.replay_buffers import reverb_replay_buffer\n",
        "from tf_agents.replay_buffers import reverb_utils\n",
        "from tf_agents.trajectories import trajectory\n",
        "from tf_agents.specs import tensor_spec\n",
        "from tf_agents.utils import common"
      ]
    },
    {
      "cell_type": "code",
      "execution_count": 5,
      "metadata": {
        "id": "J6HsdS5GbSjd"
      },
      "outputs": [],
      "source": [
        "# Set up a virtual display for rendering OpenAI gym environments.\n",
        "display = pyvirtualdisplay.Display(visible=0, size=(1400, 900)).start()"
      ]
    },
    {
      "cell_type": "code",
      "execution_count": 6,
      "metadata": {
        "id": "NspmzG4nP3b9",
        "colab": {
          "base_uri": "https://localhost:8080/",
          "height": 36
        },
        "outputId": "f2abba24-7da5-4850-c147-a9d50756007a"
      },
      "outputs": [
        {
          "output_type": "execute_result",
          "data": {
            "text/plain": [
              "'2.12.0'"
            ],
            "application/vnd.google.colaboratory.intrinsic+json": {
              "type": "string"
            }
          },
          "metadata": {},
          "execution_count": 6
        }
      ],
      "source": [
        "tf.version.VERSION"
      ]
    },
    {
      "cell_type": "markdown",
      "metadata": {
        "id": "LmC0NDhdLIKY"
      },
      "source": [
        "## Hyperparameters"
      ]
    },
    {
      "cell_type": "code",
      "execution_count": 8,
      "metadata": {
        "id": "HC1kNrOsLSIZ"
      },
      "outputs": [],
      "source": [
        "num_iterations = 20000 # @param {type:\"integer\"}\n",
        "\n",
        "initial_collect_steps = 100  # @param {type:\"integer\"}\n",
        "collect_steps_per_iteration =   1# @param {type:\"integer\"}\n",
        "replay_buffer_max_length = 100000  # @param {type:\"integer\"}\n",
        "\n",
        "batch_size = 64  # @param {type:\"integer\"}\n",
        "learning_rate = 1e-3  # @param {type:\"number\"}\n",
        "log_interval = 200  # @param {type:\"integer\"}\n",
        "\n",
        "num_eval_episodes = 10  # @param {type:\"integer\"}\n",
        "eval_interval = 1000  # @param {type:\"integer\"}"
      ]
    },
    {
      "cell_type": "markdown",
      "metadata": {
        "id": "VMsJC3DEgI0x"
      },
      "source": [
        "## Environment\n",
        "\n",
        "In Reinforcement Learning (RL), an environment represents the task or problem to be solved. Standard environments can be created in TF-Agents using `tf_agents.environments` suites. TF-Agents has suites for loading environments from sources such as the OpenAI Gym, Atari, and DM Control.\n",
        "\n",
        "Load the CartPole environment from the OpenAI Gym suite. "
      ]
    },
    {
      "cell_type": "code",
      "execution_count": 9,
      "metadata": {
        "id": "pYEz-S9gEv2-"
      },
      "outputs": [],
      "source": [
        "env_name = 'CartPole-v0'\n",
        "env = suite_gym.load(env_name)"
      ]
    },
    {
      "cell_type": "markdown",
      "metadata": {
        "id": "IIHYVBkuvPNw"
      },
      "source": [
        "You can render this environment to see how it looks. A free-swinging pole is attached to a cart.  The goal is to move the cart right or left in order to keep the pole pointing up."
      ]
    },
    {
      "cell_type": "code",
      "execution_count": 10,
      "metadata": {
        "id": "RlO7WIQHu_7D",
        "colab": {
          "base_uri": "https://localhost:8080/",
          "height": 417
        },
        "outputId": "bcac1825-9aa1-455e-e02f-2fcf18ba90ce"
      },
      "outputs": [
        {
          "output_type": "execute_result",
          "data": {
            "text/plain": [
              "<PIL.Image.Image image mode=RGB size=600x400 at 0x7F2F9CC21690>"
            ],
            "image/png": "[encoded data removed]"
          },
          "metadata": {},
          "execution_count": 10
        }
      ],
      "source": [
        "#@test {\"skip\": true}\n",
        "env.reset()\n",
        "PIL.Image.fromarray(env.render())"
      ]
    },
    {
      "cell_type": "markdown",
      "metadata": {
        "id": "B9_lskPOey18"
      },
      "source": [
        "The `environment.step` method takes an `action` in the environment and returns a `TimeStep` tuple containing the next observation of the environment and the reward for the action.\n",
        "\n",
        "The `time_step_spec()` method returns the specification for the `TimeStep` tuple. Its `observation` attribute shows the shape of observations, the data types, and the ranges of allowed values. The `reward` attribute shows the same details for the reward.\n"
      ]
    },
    {
      "cell_type": "code",
      "execution_count": 11,
      "metadata": {
        "id": "exDv57iHfwQV",
        "colab": {
          "base_uri": "https://localhost:8080/"
        },
        "outputId": "b751b6fb-2bd8-4627-f5a0-0dca1226324d"
      },
      "outputs": [
        {
          "output_type": "stream",
          "name": "stdout",
          "text": [
            "Observation Spec:\n",
            "BoundedArraySpec(shape=(4,), dtype=dtype('float32'), name='observation', minimum=[-4.8000002e+00 -3.4028235e+38 -4.1887903e-01 -3.4028235e+38], maximum=[4.8000002e+00 3.4028235e+38 4.1887903e-01 3.4028235e+38])\n"
          ]
        }
      ],
      "source": [
        "print('Observation Spec:')\n",
        "print(env.time_step_spec().observation)"
      ]
    },
    {
      "cell_type": "code",
      "execution_count": 12,
      "metadata": {
        "id": "UxiSyCbBUQPi",
        "colab": {
          "base_uri": "https://localhost:8080/"
        },
        "outputId": "bf49908b-d835-48aa-aea7-86368ff135a7"
      },
      "outputs": [
        {
          "output_type": "stream",
          "name": "stdout",
          "text": [
            "Reward Spec:\n",
            "ArraySpec(shape=(), dtype=dtype('float32'), name='reward')\n"
          ]
        }
      ],
      "source": [
        "print('Reward Spec:')\n",
        "print(env.time_step_spec().reward)"
      ]
    },
    {
      "cell_type": "markdown",
      "metadata": {
        "id": "b_lHcIcqUaqB"
      },
      "source": [
        "The `action_spec()` method returns the shape, data types, and allowed values of valid actions."
      ]
    },
    {
      "cell_type": "code",
      "execution_count": 13,
      "metadata": {
        "id": "bttJ4uxZUQBr",
        "colab": {
          "base_uri": "https://localhost:8080/"
        },
        "outputId": "826101d7-91de-4691-f093-af55162d5132"
      },
      "outputs": [
        {
          "output_type": "stream",
          "name": "stdout",
          "text": [
            "Action Spec:\n",
            "BoundedArraySpec(shape=(), dtype=dtype('int64'), name='action', minimum=0, maximum=1)\n"
          ]
        }
      ],
      "source": [
        "print('Action Spec:')\n",
        "print(env.action_spec())"
      ]
    },
    {
      "cell_type": "markdown",
      "metadata": {
        "id": "eJCgJnx3g0yY"
      },
      "source": [
        "In the Cartpole environment:\n",
        "\n",
        "-   `observation` is an array of 4 floats: \n",
        "    -   the position and velocity of the cart\n",
        "    -   the angular position and velocity of the pole \n",
        "-   `reward` is a scalar float value\n",
        "-   `action` is a scalar integer with only two possible values:\n",
        "    -   `0` — \"move left\"\n",
        "    -   `1` — \"move right\"\n"
      ]
    },
    {
      "cell_type": "code",
      "execution_count": 14,
      "metadata": {
        "id": "V2UGR5t_iZX-",
        "colab": {
          "base_uri": "https://localhost:8080/"
        },
        "outputId": "738839e5-479f-4b79-d209-3789ac0e1234"
      },
      "outputs": [
        {
          "output_type": "stream",
          "name": "stdout",
          "text": [
            "Time step:\n",
            "TimeStep(\n",
            "{'discount': array(1., dtype=float32),\n",
            " 'observation': array([-0.03528397,  0.03739591, -0.02165957, -0.04288389], dtype=float32),\n",
            " 'reward': array(0., dtype=float32),\n",
            " 'step_type': array(0, dtype=int32)})\n",
            "Next time step:\n",
            "TimeStep(\n",
            "{'discount': array(1., dtype=float32),\n",
            " 'observation': array([-0.03453605,  0.23282164, -0.02251725, -0.34232116], dtype=float32),\n",
            " 'reward': array(1., dtype=float32),\n",
            " 'step_type': array(1, dtype=int32)})\n"
          ]
        }
      ],
      "source": [
        "time_step = env.reset()\n",
        "print('Time step:')\n",
        "print(time_step)\n",
        "\n",
        "action = np.array(1, dtype=np.int32)\n",
        "\n",
        "next_time_step = env.step(action)\n",
        "print('Next time step:')\n",
        "print(next_time_step)"
      ]
    },
    {
      "cell_type": "markdown",
      "metadata": {
        "id": "4JSc9GviWUBK"
      },
      "source": [
        "Usually two environments are instantiated: one for training and one for evaluation. "
      ]
    },
    {
      "cell_type": "code",
      "execution_count": 15,
      "metadata": {
        "id": "N7brXNIGWXjC"
      },
      "outputs": [],
      "source": [
        "train_py_env = suite_gym.load(env_name)\n",
        "eval_py_env = suite_gym.load(env_name)"
      ]
    },
    {
      "cell_type": "markdown",
      "metadata": {
        "id": "zuUqXAVmecTU"
      },
      "source": [
        "The Cartpole environment, like most environments, is written in pure Python. This is converted to TensorFlow using the `TFPyEnvironment` wrapper.\n",
        "\n",
        "The original environment's API uses Numpy arrays. The `TFPyEnvironment` converts these to `Tensors` to make it compatible with Tensorflow agents and policies.\n"
      ]
    },
    {
      "cell_type": "code",
      "execution_count": 16,
      "metadata": {
        "id": "Xp-Y4mD6eDhF"
      },
      "outputs": [],
      "source": [
        "train_env = tf_py_environment.TFPyEnvironment(train_py_env)\n",
        "eval_env = tf_py_environment.TFPyEnvironment(eval_py_env)"
      ]
    },
    {
      "cell_type": "markdown",
      "metadata": {
        "id": "E9lW_OZYFR8A"
      },
      "source": [
        "## Agent\n",
        "\n",
        "The algorithm used to solve an RL problem is represented by an `Agent`. TF-Agents provides standard implementations of a variety of `Agents`, including:\n",
        "\n",
        "-   [DQN](https://storage.googleapis.com/deepmind-media/dqn/DQNNaturePaper.pdf) (used in this tutorial)\n",
        "-   [REINFORCE](https://www-anw.cs.umass.edu/~barto/courses/cs687/williams92simple.pdf)\n",
        "-   [DDPG](https://arxiv.org/pdf/1509.02971.pdf)\n",
        "-   [TD3](https://arxiv.org/pdf/1802.09477.pdf)\n",
        "-   [PPO](https://arxiv.org/abs/1707.06347)\n",
        "-   [SAC](https://arxiv.org/abs/1801.01290)\n",
        "\n",
        "The DQN agent can be used in any environment which has a discrete action space.\n",
        "\n",
        "At the heart of a DQN Agent is a `QNetwork`, a neural network model that can learn to predict `QValues` (expected returns) for all actions, given an observation from the environment.\n",
        "\n",
        "We will use `tf_agents.networks.` to create a `QNetwork`. The network will consist of a sequence of `tf.keras.layers.Dense` layers, where the final layer will have 1 output for each possible action."
      ]
    },
    {
      "cell_type": "code",
      "execution_count": 17,
      "metadata": {
        "id": "TgkdEPg_muzV"
      },
      "outputs": [],
      "source": [
        "fc_layer_params = (100, 50)\n",
        "action_tensor_spec = tensor_spec.from_spec(env.action_spec())\n",
        "num_actions = action_tensor_spec.maximum - action_tensor_spec.minimum + 1\n",
        "\n",
        "# Define a helper function to create Dense layers configured with the right\n",
        "# activation and kernel initializer.\n",
        "def dense_layer(num_units):\n",
        "  return tf.keras.layers.Dense(\n",
        "      num_units,\n",
        "      activation=tf.keras.activations.relu,\n",
        "      kernel_initializer=tf.keras.initializers.VarianceScaling(\n",
        "          scale=2.0, mode='fan_in', distribution='truncated_normal'))\n",
        "\n",
        "# QNetwork consists of a sequence of Dense layers followed by a dense layer\n",
        "# with `num_actions` units to generate one q_value per available action as\n",
        "# its output.\n",
        "dense_layers = [dense_layer(num_units) for num_units in fc_layer_params]\n",
        "q_values_layer = tf.keras.layers.Dense(\n",
        "    num_actions,\n",
        "    activation=None,\n",
        "    kernel_initializer=tf.keras.initializers.RandomUniform(\n",
        "        minval=-0.03, maxval=0.03),\n",
        "    bias_initializer=tf.keras.initializers.Constant(-0.2))\n",
        "q_net = sequential.Sequential(dense_layers + [q_values_layer])"
      ]
    },
    {
      "cell_type": "markdown",
      "metadata": {
        "id": "z62u55hSmviJ"
      },
      "source": [
        "Now use `tf_agents.agents.dqn.dqn_agent` to instantiate a `DqnAgent`. In addition to the `time_step_spec`, `action_spec` and the QNetwork, the agent constructor also requires an optimizer (in this case, `AdamOptimizer`), a loss function, and an integer step counter."
      ]
    },
    {
      "cell_type": "code",
      "execution_count": 18,
      "metadata": {
        "id": "jbY4yrjTEyc9"
      },
      "outputs": [],
      "source": [
        "optimizer = tf.keras.optimizers.Adam(learning_rate=learning_rate)\n",
        "\n",
        "train_step_counter = tf.Variable(0)\n",
        "\n",
        "agent = dqn_agent.DqnAgent(\n",
        "    train_env.time_step_spec(),\n",
        "    train_env.action_spec(),\n",
        "    q_network=q_net,\n",
        "    optimizer=optimizer,\n",
        "    td_errors_loss_fn=common.element_wise_squared_loss,\n",
        "    train_step_counter=train_step_counter)\n",
        "\n",
        "agent.initialize()"
      ]
    },
    {
      "cell_type": "markdown",
      "metadata": {
        "id": "I0KLrEPwkn5x"
      },
      "source": [
        "## Policies\n",
        "\n",
        "A policy defines the way an agent acts in an environment. Typically, the goal of reinforcement learning is to train the underlying model until the policy produces the desired outcome.\n",
        "\n",
        "In this tutorial:\n",
        "\n",
        "-   The desired outcome is keeping the pole balanced upright over the cart.\n",
        "-   The policy returns an action (left or right) for each `time_step` observation.\n",
        "\n",
        "Agents contain two policies: \n",
        "\n",
        "-   `agent.policy` — The main policy that is used for evaluation and deployment.\n",
        "-   `agent.collect_policy` — A second policy that is used for data collection.\n"
      ]
    },
    {
      "cell_type": "code",
      "execution_count": 19,
      "metadata": {
        "id": "BwY7StuMkuV4"
      },
      "outputs": [],
      "source": [
        "eval_policy = agent.policy\n",
        "collect_policy = agent.collect_policy"
      ]
    },
    {
      "cell_type": "markdown",
      "metadata": {
        "id": "2Qs1Fl3dV0ae"
      },
      "source": [
        "Policies can be created independently of agents. For example, use `tf_agents.policies.random_tf_policy` to create a policy which will randomly select an action for each `time_step`."
      ]
    },
    {
      "cell_type": "code",
      "execution_count": 20,
      "metadata": {
        "id": "HE37-UCIrE69"
      },
      "outputs": [],
      "source": [
        "random_policy = random_tf_policy.RandomTFPolicy(train_env.time_step_spec(),\n",
        "                                                train_env.action_spec())"
      ]
    },
    {
      "cell_type": "markdown",
      "metadata": {
        "id": "dOlnlRRsUbxP"
      },
      "source": [
        "To get an action from a policy, call the `policy.action(time_step)` method. The `time_step` contains the observation from the environment. This method returns a `PolicyStep`, which is a named tuple with three components:\n",
        "\n",
        "-   `action` — the action to be taken (in this case, `0` or `1`)\n",
        "-   `state` — used for stateful (that is, RNN-based) policies\n",
        "-   `info` — auxiliary data, such as log probabilities of actions"
      ]
    },
    {
      "cell_type": "code",
      "execution_count": 21,
      "metadata": {
        "id": "5gCcpXswVAxk"
      },
      "outputs": [],
      "source": [
        "example_environment = tf_py_environment.TFPyEnvironment(\n",
        "    suite_gym.load('CartPole-v0'))"
      ]
    },
    {
      "cell_type": "code",
      "execution_count": 22,
      "metadata": {
        "id": "D4DHZtq3Ndis"
      },
      "outputs": [],
      "source": [
        "time_step = example_environment.reset()"
      ]
    },
    {
      "cell_type": "code",
      "execution_count": 23,
      "metadata": {
        "id": "PRFqAUzpNaAW",
        "colab": {
          "base_uri": "https://localhost:8080/"
        },
        "outputId": "11d13c11-11fc-4a03-f443-00cba142f6e9"
      },
      "outputs": [
        {
          "output_type": "execute_result",
          "data": {
            "text/plain": [
              "PolicyStep(action=<tf.Tensor: shape=(1,), dtype=int64, numpy=array([1])>, state=(), info=())"
            ]
          },
          "metadata": {},
          "execution_count": 23
        }
      ],
      "source": [
        "random_policy.action(time_step)"
      ]
    },
    {
      "cell_type": "markdown",
      "metadata": {
        "id": "94rCXQtbUbXv"
      },
      "source": [
        "## Metrics and Evaluation\n",
        "\n",
        "The most common metric used to evaluate a policy is the average return. The return is the sum of rewards obtained while running a policy in an environment for an episode. Several episodes are run, creating an average return.\n",
        "\n",
        "The following function computes the average return of a policy, given the policy, environment, and a number of episodes.\n"
      ]
    },
    {
      "cell_type": "code",
      "execution_count": 24,
      "metadata": {
        "id": "bitzHo5_UbXy"
      },
      "outputs": [],
      "source": [
        "#@test {\"skip\": true}\n",
        "def compute_avg_return(environment, policy, num_episodes=10):\n",
        "\n",
        "  total_return = 0.0\n",
        "  for _ in range(num_episodes):\n",
        "\n",
        "    time_step = environment.reset()\n",
        "    episode_return = 0.0\n",
        "\n",
        "    while not time_step.is_last():\n",
        "      action_step = policy.action(time_step)\n",
        "      time_step = environment.step(action_step.action)\n",
        "      episode_return += time_step.reward\n",
        "    total_return += episode_return\n",
        "\n",
        "  avg_return = total_return / num_episodes\n",
        "  return avg_return.numpy()[0]\n",
        "\n",
        "\n",
        "# See also the metrics module for standard implementations of different metrics.\n",
        "# https://github.com/tensorflow/agents/tree/master/tf_agents/metrics"
      ]
    },
    {
      "cell_type": "markdown",
      "metadata": {
        "id": "_snCVvq5Z8lJ"
      },
      "source": [
        "Running this computation on the `random_policy` shows a baseline performance in the environment."
      ]
    },
    {
      "cell_type": "code",
      "execution_count": 25,
      "metadata": {
        "id": "9bgU6Q6BZ8Bp",
        "colab": {
          "base_uri": "https://localhost:8080/"
        },
        "outputId": "b4b2456f-1605-4bcf-e41f-eaeb1e7e2878"
      },
      "outputs": [
        {
          "output_type": "execute_result",
          "data": {
            "text/plain": [
              "22.8"
            ]
          },
          "metadata": {},
          "execution_count": 25
        }
      ],
      "source": [
        "compute_avg_return(eval_env, random_policy, num_eval_episodes)"
      ]
    },
    {
      "cell_type": "markdown",
      "metadata": {
        "id": "NLva6g2jdWgr"
      },
      "source": [
        "## Replay Buffer\n",
        "\n",
        "In order to keep track of the data collected from the environment, we will use [Reverb](https://deepmind.com/research/open-source/Reverb), an efficient, extensible, and easy-to-use replay system by Deepmind. It stores experience data when we collect trajectories and is consumed during training.\n",
        "\n",
        "This replay buffer is constructed using specs describing the tensors that are to be stored, which can be obtained from the agent using agent.collect_data_spec.\n"
      ]
    },
    {
      "cell_type": "code",
      "execution_count": 26,
      "metadata": {
        "id": "vX2zGUWJGWAl"
      },
      "outputs": [],
      "source": [
        "table_name = 'uniform_table'\n",
        "replay_buffer_signature = tensor_spec.from_spec(\n",
        "      agent.collect_data_spec)\n",
        "replay_buffer_signature = tensor_spec.add_outer_dim(\n",
        "    replay_buffer_signature)\n",
        "\n",
        "table = reverb.Table(\n",
        "    table_name,\n",
        "    max_size=replay_buffer_max_length,\n",
        "    sampler=reverb.selectors.Uniform(),\n",
        "    remover=reverb.selectors.Fifo(),\n",
        "    rate_limiter=reverb.rate_limiters.MinSize(1),\n",
        "    signature=replay_buffer_signature)\n",
        "\n",
        "reverb_server = reverb.Server([table])\n",
        "\n",
        "replay_buffer = reverb_replay_buffer.ReverbReplayBuffer(\n",
        "    agent.collect_data_spec,\n",
        "    table_name=table_name,\n",
        "    sequence_length=2,\n",
        "    local_server=reverb_server)\n",
        "\n",
        "rb_observer = reverb_utils.ReverbAddTrajectoryObserver(\n",
        "  replay_buffer.py_client,\n",
        "  table_name,\n",
        "  sequence_length=2)"
      ]
    },
    {
      "cell_type": "markdown",
      "metadata": {
        "id": "ZGNTDJpZs4NN"
      },
      "source": [
        "For most agents, `collect_data_spec` is a named tuple called `Trajectory`, containing the specs for observations, actions, rewards, and other items."
      ]
    },
    {
      "cell_type": "code",
      "execution_count": 27,
      "metadata": {
        "id": "_IZ-3HcqgE1z",
        "colab": {
          "base_uri": "https://localhost:8080/"
        },
        "outputId": "5f9ea400-9c9d-454d-ccf2-b31fef9bca12"
      },
      "outputs": [
        {
          "output_type": "execute_result",
          "data": {
            "text/plain": [
              "Trajectory(\n",
              "{'action': BoundedTensorSpec(shape=(), dtype=tf.int64, name='action', minimum=array(0), maximum=array(1)),\n",
              " 'discount': BoundedTensorSpec(shape=(), dtype=tf.float32, name='discount', minimum=array(0., dtype=float32), maximum=array(1., dtype=float32)),\n",
              " 'next_step_type': TensorSpec(shape=(), dtype=tf.int32, name='step_type'),\n",
              " 'observation': BoundedTensorSpec(shape=(4,), dtype=tf.float32, name='observation', minimum=array([-4.8000002e+00, -3.4028235e+38, -4.1887903e-01, -3.4028235e+38],\n",
              "      dtype=float32), maximum=array([4.8000002e+00, 3.4028235e+38, 4.1887903e-01, 3.4028235e+38],\n",
              "      dtype=float32)),\n",
              " 'policy_info': (),\n",
              " 'reward': TensorSpec(shape=(), dtype=tf.float32, name='reward'),\n",
              " 'step_type': TensorSpec(shape=(), dtype=tf.int32, name='step_type')})"
            ]
          },
          "metadata": {},
          "execution_count": 27
        }
      ],
      "source": [
        "agent.collect_data_spec"
      ]
    },
    {
      "cell_type": "code",
      "execution_count": 28,
      "metadata": {
        "id": "sy6g1tGcfRlw",
        "colab": {
          "base_uri": "https://localhost:8080/"
        },
        "outputId": "fcf74380-f034-4852-a7ff-2b37c6372145"
      },
      "outputs": [
        {
          "output_type": "execute_result",
          "data": {
            "text/plain": [
              "('step_type',\n",
              " 'observation',\n",
              " 'action',\n",
              " 'policy_info',\n",
              " 'next_step_type',\n",
              " 'reward',\n",
              " 'discount')"
            ]
          },
          "metadata": {},
          "execution_count": 28
        }
      ],
      "source": [
        "agent.collect_data_spec._fields"
      ]
    },
    {
      "cell_type": "markdown",
      "metadata": {
        "id": "rVD5nQ9ZGo8_"
      },
      "source": [
        "## Data Collection\n",
        "\n",
        "Now execute the random policy in the environment for a few steps, recording the data in the replay buffer.\n",
        "\n",
        "Here we are using 'PyDriver' to run the experience collecting loop. You can learn more about TF Agents driver in our [drivers tutorial](https://www.tensorflow.org/agents/tutorials/4_drivers_tutorial)."
      ]
    },
    {
      "cell_type": "code",
      "execution_count": 29,
      "metadata": {
        "id": "wr1KSAEGG4h9",
        "colab": {
          "base_uri": "https://localhost:8080/"
        },
        "outputId": "18cc123e-ab1a-4be2-9bf3-a8fb65ee526d"
      },
      "outputs": [
        {
          "output_type": "execute_result",
          "data": {
            "text/plain": [
              "(TimeStep(\n",
              " {'discount': array(1., dtype=float32),\n",
              "  'observation': array([ 0.13529295,  0.9919783 , -0.08309169, -1.1553397 ], dtype=float32),\n",
              "  'reward': array(1., dtype=float32),\n",
              "  'step_type': array(1, dtype=int32)}),\n",
              " ())"
            ]
          },
          "metadata": {},
          "execution_count": 29
        }
      ],
      "source": [
        "#@test {\"skip\": true}\n",
        "py_driver.PyDriver(\n",
        "    env,\n",
        "    py_tf_eager_policy.PyTFEagerPolicy(\n",
        "      random_policy, use_tf_function=True),\n",
        "    [rb_observer],\n",
        "    max_steps=initial_collect_steps).run(train_py_env.reset())"
      ]
    },
    {
      "cell_type": "markdown",
      "metadata": {
        "id": "84z5pQJdoKxo"
      },
      "source": [
        "The replay buffer is now a collection of Trajectories."
      ]
    },
    {
      "cell_type": "code",
      "execution_count": 30,
      "metadata": {
        "id": "4wZnLu2ViO4E"
      },
      "outputs": [],
      "source": [
        "# For the curious:\n",
        "# Uncomment to peel one of these off and inspect it.\n",
        "# iter(replay_buffer.as_dataset()).next()"
      ]
    },
    {
      "cell_type": "markdown",
      "metadata": {
        "id": "TujU-PMUsKjS"
      },
      "source": [
        "The agent needs access to the replay buffer. This is provided by creating an iterable `tf.data.Dataset` pipeline which will feed data to the agent.\n",
        "\n",
        "Each row of the replay buffer only stores a single observation step. But since the DQN Agent needs both the current and next observation to compute the loss, the dataset pipeline will sample two adjacent rows for each item in the batch (`num_steps=2`).\n",
        "\n",
        "This dataset is also optimized by running parallel calls and prefetching data."
      ]
    },
    {
      "cell_type": "code",
      "execution_count": 31,
      "metadata": {
        "id": "ba7bilizt_qW",
        "colab": {
          "base_uri": "https://localhost:8080/"
        },
        "outputId": "a706d1c9-038e-48cd-b834-24fee0b883a7"
      },
      "outputs": [
        {
          "output_type": "execute_result",
          "data": {
            "text/plain": [
              "<_PrefetchDataset element_spec=(Trajectory(\n",
              "{'action': TensorSpec(shape=(64, 2), dtype=tf.int64, name=None),\n",
              " 'discount': TensorSpec(shape=(64, 2), dtype=tf.float32, name=None),\n",
              " 'next_step_type': TensorSpec(shape=(64, 2), dtype=tf.int32, name=None),\n",
              " 'observation': TensorSpec(shape=(64, 2, 4), dtype=tf.float32, name=None),\n",
              " 'policy_info': (),\n",
              " 'reward': TensorSpec(shape=(64, 2), dtype=tf.float32, name=None),\n",
              " 'step_type': TensorSpec(shape=(64, 2), dtype=tf.int32, name=None)}), SampleInfo(key=TensorSpec(shape=(64, 2), dtype=tf.uint64, name=None), probability=TensorSpec(shape=(64, 2), dtype=tf.float64, name=None), table_size=TensorSpec(shape=(64, 2), dtype=tf.int64, name=None), priority=TensorSpec(shape=(64, 2), dtype=tf.float64, name=None), times_sampled=TensorSpec(shape=(64, 2), dtype=tf.int32, name=None)))>"
            ]
          },
          "metadata": {},
          "execution_count": 31
        }
      ],
      "source": [
        "# Dataset generates trajectories with shape [Bx2x...]\n",
        "dataset = replay_buffer.as_dataset(\n",
        "    num_parallel_calls=3,\n",
        "    sample_batch_size=batch_size,\n",
        "    num_steps=2).prefetch(3)\n",
        "\n",
        "dataset"
      ]
    },
    {
      "cell_type": "code",
      "execution_count": 32,
      "metadata": {
        "id": "K13AST-2ppOq",
        "colab": {
          "base_uri": "https://localhost:8080/"
        },
        "outputId": "6ec16a6b-9d63-4b8b-8559-43daa08505ec"
      },
      "outputs": [
        {
          "output_type": "stream",
          "name": "stdout",
          "text": [
            "<tensorflow.python.data.ops.iterator_ops.OwnedIterator object at 0x7f2f8c233a60>\n"
          ]
        }
      ],
      "source": [
        "iterator = iter(dataset)\n",
        "print(iterator)"
      ]
    },
    {
      "cell_type": "code",
      "execution_count": 33,
      "metadata": {
        "id": "Th5w5Sff0b16"
      },
      "outputs": [],
      "source": [
        "# For the curious:\n",
        "# Uncomment to see what the dataset iterator is feeding to the agent.\n",
        "# Compare this representation of replay data \n",
        "# to the collection of individual trajectories shown earlier.\n",
        "\n",
        "# iterator.next()"
      ]
    },
    {
      "cell_type": "markdown",
      "metadata": {
        "id": "hBc9lj9VWWtZ"
      },
      "source": [
        "## Training the agent\n",
        "\n",
        "Two things must happen during the training loop:\n",
        "\n",
        "-   collect data from the environment\n",
        "-   use that data to train the agent's neural network(s)\n",
        "\n",
        "This example also periodicially evaluates the policy and prints the current score.\n",
        "\n",
        "The following will take ~5 minutes to run."
      ]
    },
    {
      "cell_type": "code",
      "execution_count": 34,
      "metadata": {
        "id": "0pTbJ3PeyF-u",
        "colab": {
          "base_uri": "https://localhost:8080/"
        },
        "outputId": "e15c812a-82eb-4061-e06d-4b27ff177eed"
      },
      "outputs": [
        {
          "output_type": "stream",
          "name": "stderr",
          "text": [
            "WARNING:tensorflow:From /usr/local/lib/python3.10/dist-packages/tensorflow/python/util/dispatch.py:1176: calling foldr_v2 (from tensorflow.python.ops.functional_ops) with back_prop=False is deprecated and will be removed in a future version.\n",
            "Instructions for updating:\n",
            "back_prop=False is deprecated. Consider using tf.stop_gradient instead.\n",
            "Instead of:\n",
            "results = tf.foldr(fn, elems, back_prop=False)\n",
            "Use:\n",
            "results = tf.nest.map_structure(tf.stop_gradient, tf.foldr(fn, elems))\n"
          ]
        },
        {
          "output_type": "stream",
          "name": "stdout",
          "text": [
            "step = 200: loss = 12.039645195007324\n",
            "step = 400: loss = 16.109630584716797\n",
            "step = 600: loss = 168.51336669921875\n",
            "step = 800: loss = 803.4636840820312\n",
            "step = 1000: loss = 316.90692138671875\n",
            "step = 1000: Average Return = 99.5999984741211\n",
            "step = 1200: loss = 155.48765563964844\n",
            "step = 1400: loss = 712.6094360351562\n",
            "step = 1600: loss = 2211.191162109375\n",
            "step = 1800: loss = 386.34033203125\n",
            "step = 2000: loss = 251.5150909423828\n",
            "step = 2000: Average Return = 79.69999694824219\n",
            "step = 2200: loss = 174.92129516601562\n",
            "step = 2400: loss = 275.7715759277344\n",
            "step = 2600: loss = 602.69580078125\n",
            "step = 2800: loss = 8437.873046875\n",
            "step = 3000: loss = 731.135009765625\n",
            "step = 3000: Average Return = 200.0\n",
            "step = 3200: loss = 24346.78125\n",
            "step = 3400: loss = 2797.43505859375\n",
            "step = 3600: loss = 2716.135009765625\n",
            "step = 3800: loss = 5243.4677734375\n",
            "step = 4000: loss = 7810.55810546875\n",
            "step = 4000: Average Return = 200.0\n",
            "step = 4200: loss = 2979.9287109375\n",
            "step = 4400: loss = 417448.0625\n",
            "step = 4600: loss = 8770.931640625\n",
            "step = 4800: loss = 240795.890625\n",
            "step = 5000: loss = 315907.90625\n",
            "step = 5000: Average Return = 200.0\n",
            "step = 5200: loss = 3661.971923828125\n",
            "step = 5400: loss = 74167.734375\n",
            "step = 5600: loss = 4834.49169921875\n",
            "step = 5800: loss = 286115.34375\n",
            "step = 6000: loss = 73615.2421875\n",
            "step = 6000: Average Return = 199.60000610351562\n",
            "step = 6200: loss = 343651.1875\n",
            "step = 6400: loss = 9957.9052734375\n",
            "step = 6600: loss = 4460.86865234375\n",
            "step = 6800: loss = 2702.52001953125\n",
            "step = 7000: loss = 3464.9296875\n",
            "step = 7000: Average Return = 164.1999969482422\n",
            "step = 7200: loss = 172588.09375\n",
            "step = 7400: loss = 8085.544921875\n",
            "step = 7600: loss = 168157.640625\n",
            "step = 7800: loss = 4626.8388671875\n",
            "step = 8000: loss = 7370.4365234375\n",
            "step = 8000: Average Return = 200.0\n",
            "step = 8200: loss = 3061.91064453125\n",
            "step = 8400: loss = 3758.7587890625\n",
            "step = 8600: loss = 4229.45947265625\n",
            "step = 8800: loss = 2201.953857421875\n",
            "step = 9000: loss = 2422.79248046875\n",
            "step = 9000: Average Return = 200.0\n",
            "step = 9200: loss = 1979.1829833984375\n",
            "step = 9400: loss = 2306.57470703125\n",
            "step = 9600: loss = 2046.7646484375\n",
            "step = 9800: loss = 3774.346435546875\n",
            "step = 10000: loss = 1398.872314453125\n",
            "step = 10000: Average Return = 200.0\n",
            "step = 10200: loss = 1571.53173828125\n",
            "step = 10400: loss = 2592.4912109375\n",
            "step = 10600: loss = 1410.653076171875\n",
            "step = 10800: loss = 1517.1551513671875\n",
            "step = 11000: loss = 2268.37939453125\n",
            "step = 11000: Average Return = 200.0\n",
            "step = 11200: loss = 2332.463623046875\n",
            "step = 11400: loss = 1284.6737060546875\n",
            "step = 11600: loss = 1653.8621826171875\n",
            "step = 11800: loss = 1324.459716796875\n",
            "step = 12000: loss = 1318.412109375\n",
            "step = 12000: Average Return = 200.0\n",
            "step = 12200: loss = 3078.455078125\n",
            "step = 12400: loss = 2590.598876953125\n",
            "step = 12600: loss = 1185.54736328125\n",
            "step = 12800: loss = 1256.3638916015625\n",
            "step = 13000: loss = 7587.4609375\n",
            "step = 13000: Average Return = 200.0\n",
            "step = 13200: loss = 8895.75390625\n",
            "step = 13400: loss = 134418.359375\n",
            "step = 13600: loss = 765.677734375\n",
            "step = 13800: loss = 1173.6209716796875\n",
            "step = 14000: loss = 1133.600830078125\n",
            "step = 14000: Average Return = 200.0\n",
            "step = 14200: loss = 7939.8056640625\n",
            "step = 14400: loss = 608.6251831054688\n",
            "step = 14600: loss = 2467.37451171875\n",
            "step = 14800: loss = 1787.6241455078125\n",
            "step = 15000: loss = 1875.5625\n",
            "step = 15000: Average Return = 200.0\n",
            "step = 15200: loss = 1235.231201171875\n",
            "step = 15400: loss = 2138.74462890625\n",
            "step = 15600: loss = 1653.38720703125\n",
            "step = 15800: loss = 2594.35205078125\n",
            "step = 16000: loss = 2578.48876953125\n",
            "step = 16000: Average Return = 200.0\n",
            "step = 16200: loss = 3831.680908203125\n",
            "step = 16400: loss = 2207.8720703125\n",
            "step = 16600: loss = 3514.047607421875\n",
            "step = 16800: loss = 276805.71875\n",
            "step = 17000: loss = 176050.828125\n",
            "step = 17000: Average Return = 200.0\n",
            "step = 17200: loss = 328923.875\n",
            "step = 17400: loss = 5592.453125\n",
            "step = 17600: loss = 2844.92724609375\n",
            "step = 17800: loss = 12540.3203125\n",
            "step = 18000: loss = 33052.42578125\n",
            "step = 18000: Average Return = 200.0\n",
            "step = 18200: loss = 132184.234375\n",
            "step = 18400: loss = 7076.3955078125\n",
            "step = 18600: loss = 173348.828125\n",
            "step = 18800: loss = 2994.76513671875\n",
            "step = 19000: loss = 2743.830810546875\n",
            "step = 19000: Average Return = 200.0\n",
            "step = 19200: loss = 4092.670654296875\n",
            "step = 19400: loss = 3167.99267578125\n",
            "step = 19600: loss = 86874.65625\n",
            "step = 19800: loss = 1508.080078125\n",
            "step = 20000: loss = 2835.55908203125\n",
            "step = 20000: Average Return = 200.0\n"
          ]
        }
      ],
      "source": [
        "#@test {\"skip\": true}\n",
        "try:\n",
        "  %%time\n",
        "except:\n",
        "  pass\n",
        "\n",
        "# (Optional) Optimize by wrapping some of the code in a graph using TF function.\n",
        "agent.train = common.function(agent.train)\n",
        "\n",
        "# Reset the train step.\n",
        "agent.train_step_counter.assign(0)\n",
        "\n",
        "# Evaluate the agent's policy once before training.\n",
        "avg_return = compute_avg_return(eval_env, agent.policy, num_eval_episodes)\n",
        "returns = [avg_return]\n",
        "\n",
        "# Reset the environment.\n",
        "time_step = train_py_env.reset()\n",
        "\n",
        "# Create a driver to collect experience.\n",
        "collect_driver = py_driver.PyDriver(\n",
        "    env,\n",
        "    py_tf_eager_policy.PyTFEagerPolicy(\n",
        "      agent.collect_policy, use_tf_function=True),\n",
        "    [rb_observer],\n",
        "    max_steps=collect_steps_per_iteration)\n",
        "\n",
        "for _ in range(num_iterations):\n",
        "\n",
        "  # Collect a few steps and save to the replay buffer.\n",
        "  time_step, _ = collect_driver.run(time_step)\n",
        "\n",
        "  # Sample a batch of data from the buffer and update the agent's network.\n",
        "  experience, unused_info = next(iterator)\n",
        "  train_loss = agent.train(experience).loss\n",
        "\n",
        "  step = agent.train_step_counter.numpy()\n",
        "\n",
        "  if step % log_interval == 0:\n",
        "    print('step = {0}: loss = {1}'.format(step, train_loss))\n",
        "\n",
        "  if step % eval_interval == 0:\n",
        "    avg_return = compute_avg_return(eval_env, agent.policy, num_eval_episodes)\n",
        "    print('step = {0}: Average Return = {1}'.format(step, avg_return))\n",
        "    returns.append(avg_return)"
      ]
    },
    {
      "cell_type": "markdown",
      "metadata": {
        "id": "68jNcA_TiJDq"
      },
      "source": [
        "## Visualization\n"
      ]
    },
    {
      "cell_type": "markdown",
      "metadata": {
        "id": "aO-LWCdbbOIC"
      },
      "source": [
        "### Plots\n",
        "\n",
        "Use `matplotlib.pyplot` to chart how the policy improved during training.\n",
        "\n",
        "One iteration of `Cartpole-v0` consists of 200 time steps. The environment gives a reward of `+1` for each step the pole stays up, so the maximum return for one episode is 200. The charts shows the return increasing towards that maximum each time it is evaluated during training. (It may be a little unstable and not increase monotonically each time.)"
      ]
    },
    {
      "cell_type": "code",
      "execution_count": 35,
      "metadata": {
        "id": "NxtL1mbOYCVO",
        "colab": {
          "base_uri": "https://localhost:8080/",
          "height": 472
        },
        "outputId": "33a104e3-0e57-4ac3-aa3f-89e7a5e5ba96"
      },
      "outputs": [
        {
          "output_type": "execute_result",
          "data": {
            "text/plain": [
              "(1.8650002002716057, 250.0)"
            ]
          },
          "metadata": {},
          "execution_count": 35
        },
        {
          "output_type": "display_data",
          "data": {
            "text/plain": [
              "<Figure size 640x480 with 1 Axes>"
            ],
            "image/png": "[encoded data removed]"
          },
          "metadata": {}
        }
      ],
      "source": [
        "#@test {\"skip\": true}\n",
        "\n",
        "iterations = range(0, num_iterations + 1, eval_interval)\n",
        "plt.plot(iterations, returns)\n",
        "plt.ylabel('Average Return')\n",
        "plt.xlabel('Iterations')\n",
        "plt.ylim(top=250)"
      ]
    },
    {
      "cell_type": "markdown",
      "metadata": {
        "id": "M7-XpPP99Cy7"
      },
      "source": [
        "### Videos"
      ]
    },
    {
      "cell_type": "markdown",
      "metadata": {
        "id": "9pGfGxSH32gn"
      },
      "source": [
        "Charts are nice. But more exciting is seeing an agent actually performing a task in an environment. \n",
        "\n",
        "First, create a function to embed videos in the notebook."
      ]
    },
    {
      "cell_type": "code",
      "execution_count": 36,
      "metadata": {
        "id": "ULaGr8pvOKbl"
      },
      "outputs": [],
      "source": [
        "def embed_mp4(filename):\n",
        "  \"\"\"Embeds an mp4 file in the notebook.\"\"\"\n",
        "  video = open(filename,'rb').read()\n",
        "  b64 = base64.b64encode(video)\n",
        "  tag = '''\n",
        "  <video width=\"640\" height=\"480\" controls>\n",
        "    <source src=\"data:video/mp4;base64,{0}\" type=\"video/mp4\">\n",
        "  Your browser does not support the video tag.\n",
        "  </video>'''.format(b64.decode())\n",
        "\n",
        "  return IPython.display.HTML(tag)"
      ]
    },
    {
      "cell_type": "markdown",
      "metadata": {
        "id": "9c_PH-pX4Pr5"
      },
      "source": [
        "Now iterate through a few episodes of the Cartpole game with the agent. The underlying Python environment (the one \"inside\" the TensorFlow environment wrapper) provides a `render()` method, which outputs an image of the environment state. These can be collected into a video."
      ]
    },
    {
      "cell_type": "code",
      "execution_count": 37,
      "metadata": {
        "id": "owOVWB158NlF",
        "colab": {
          "base_uri": "https://localhost:8080/",
          "height": 539
        },
        "outputId": "57c4735f-d2a2-4a97-ec23-060ae8f5a2e8"
      },
      "outputs": [
        {
          "output_type": "stream",
          "name": "stderr",
          "text": [
            "WARNING:root:IMAGEIO FFMPEG_WRITER WARNING: input image is not divisible by macro_block_size=16, resizing from (400, 600) to (400, 608) to ensure video compatibility with most codecs and players. To prevent resizing, make your input image divisible by the macro_block_size or set the macro_block_size to None (risking incompatibility). You may also see a FFMPEG warning concerning speedloss due to data not being aligned.\n"
          ]
        },
        {
          "output_type": "execute_result",
          "data": {
            "text/plain": [
              "<IPython.core.display.HTML object>"
            ],
            "text/html": [
              "\n",
              "  <video width=\"640\" height=\"480\" controls>\n",
              "    <source src=\"data:video/mp4;base64,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\" type=\"video/mp4\">\n",
              "  Your browser does not support the video tag.\n",
              "  </video>"
            ]
          },
          "metadata": {},
          "execution_count": 37
        }
      ],
      "source": [
        "def create_policy_eval_video(policy, filename, num_episodes=5, fps=30):\n",
        "  filename = filename + \".mp4\"\n",
        "  with imageio.get_writer(filename, fps=fps) as video:\n",
        "    for _ in range(num_episodes):\n",
        "      time_step = eval_env.reset()\n",
        "      video.append_data(eval_py_env.render())\n",
        "      while not time_step.is_last():\n",
        "        action_step = policy.action(time_step)\n",
        "        time_step = eval_env.step(action_step.action)\n",
        "        video.append_data(eval_py_env.render())\n",
        "  return embed_mp4(filename)\n",
        "\n",
        "create_policy_eval_video(agent.policy, \"trained-agent\")"
      ]
    },
    {
      "cell_type": "markdown",
      "metadata": {
        "id": "povaAOcZygLw"
      },
      "source": [
        "For fun, compare the trained agent (above) to an agent moving randomly. (It does not do as well.)"
      ]
    },
    {
      "cell_type": "code",
      "execution_count": 38,
      "metadata": {
        "id": "pJZIdC37yNH4",
        "colab": {
          "base_uri": "https://localhost:8080/",
          "height": 539
        },
        "outputId": "3ff61e26-a990-4ff3-db12-c884d0a3942c"
      },
      "outputs": [
        {
          "output_type": "stream",
          "name": "stderr",
          "text": [
            "WARNING:root:IMAGEIO FFMPEG_WRITER WARNING: input image is not divisible by macro_block_size=16, resizing from (400, 600) to (400, 608) to ensure video compatibility with most codecs and players. To prevent resizing, make your input image divisible by the macro_block_size or set the macro_block_size to None (risking incompatibility). You may also see a FFMPEG warning concerning speedloss due to data not being aligned.\n"
          ]
        },
        {
          "output_type": "execute_result",
          "data": {
            "text/plain": [
              "<IPython.core.display.HTML object>"
            ],
            "text/html": [
              "\n",
              "  <video width=\"640\" height=\"480\" controls>\n",
              "    <source src=\"data:video/mp4;base64,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\" type=\"video/mp4\">\n",
              "  Your browser does not support the video tag.\n",
              "  </video>"
            ]
          },
          "metadata": {},
          "execution_count": 38
        }
      ],
      "source": [
        "create_policy_eval_video(random_policy, \"random-agent\")"
      ]
    }
  ],
  "metadata": {
    "colab": {
      "provenance": [],
      "toc_visible": true,
      "include_colab_link": true
    },
    "kernelspec": {
      "display_name": "Python 3",
      "language": "python",
      "name": "python3"
    },
    "pycharm": {
      "stem_cell": {
        "cell_type": "raw",
        "metadata": {
          "collapsed": false
        },
        "source": []
      }
    },
    "gpuClass": "standard"
  },
  "nbformat": 4,
  "nbformat_minor": 0
}